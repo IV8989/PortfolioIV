{
 "cells": [
  {
   "cell_type": "code",
   "execution_count": 2,
   "metadata": {},
   "outputs": [
    {
     "data": {
      "image/png": "[encoded data removed]",
      "text/plain": [
       "<Figure size 432x288 with 1 Axes>"
      ]
     },
     "metadata": {
      "needs_background": "light"
     },
     "output_type": "display_data"
    }
   ],
   "source": [
    "import numpy as np\n",
    "import matplotlib.pyplot as plt\n",
    "\n",
    "file = open('/Users/User/Downloads/dump_spectra_IV.dat')\n",
    "list = []\n",
    "\n",
    "for line in file:\n",
    "    list += [line.split()]\n",
    "\n",
    "wavel= [x[0] for x in list]   #wavelength list \n",
    "\n",
    "fd = [x[1] for x in list]     #flux density list\n",
    "\n",
    "FD=fd[2:]                    #cutting the list to only contain floats\n",
    "wav=wavel[2:]\n",
    "\n",
    "FD_array = np.array(FD).astype(np.float)      #making them into an array\n",
    "wav_array = np.array(wav).astype(np.float)\n",
    "\n",
    "\n",
    "\n",
    "#print(FD,wav)\n",
    "#print(len(wav),len(wavel))\n",
    "\n",
    "        \n",
    "plt.plot(wav_array,FD_array) #plotting the arrays #low 4.44 high 4.95\n",
    "plt.xlim(4.48,4.92)\n",
    "plt.show()"
   ]
  },
  {
   "cell_type": "code",
   "execution_count": 3,
   "metadata": {},
   "outputs": [
    {
     "name": "stdout",
     "output_type": "stream",
     "text": [
      "Flux: 7.755214961799999e-15      Wavelength: 4.4834\n",
      "Flux: 2.3616268871999998e-14      Wavelength: 4.48934\n",
      "Flux: 4.87849743186e-14      Wavelength: 4.49532\n",
      "Flux: 9.28104669066e-14      Wavelength: 4.50138\n",
      "Flux: 1.669306657896e-13      Wavelength: 4.50752\n",
      "Flux: 2.8705714842e-13      Wavelength: 4.51374\n",
      "Flux: 4.72946517219e-13      Wavelength: 4.52006\n",
      "Flux: 7.446270025812e-13      Wavelength: 4.52646\n",
      "Flux: 1.1175314992010001e-12      Wavelength: 4.53296\n",
      "Flux: 1.5908424379017999e-12      Wavelength: 4.53956\n",
      "Flux: 2.1464420981924e-12      Wavelength: 4.54624\n",
      "Flux: 2.7437721464677996e-12      Wavelength: 4.55302\n",
      "Flux: 3.3343026436752013e-12      Wavelength: 4.55988\n",
      "Flux: 3.879843109744801e-12      Wavelength: 4.56684\n",
      "Flux: 4.3634358113110004e-12      Wavelength: 4.57392\n",
      "Flux: 4.786055275924401e-12      Wavelength: 4.58106\n",
      "Flux: 5.155294794522404e-12      Wavelength: 4.58832\n",
      "Flux: 5.4715169575511985e-12      Wavelength: 4.59568\n",
      "Flux: 5.735587077808199e-12      Wavelength: 4.60314\n",
      "Flux: 5.943501553229999e-12      Wavelength: 4.6107\n",
      "Flux: 6.086382965706e-12      Wavelength: 4.61836\n",
      "Flux: 6.1486042611546015e-12      Wavelength: 4.62612\n",
      "Flux: 6.102544903245002e-12      Wavelength: 4.63398\n",
      "Flux: 5.891308139234399e-12      Wavelength: 4.64194\n",
      "Flux: 5.378740559949999e-12      Wavelength: 4.65002\n",
      "Flux: 4.082115524458598e-12      Wavelength: 4.65818\n",
      "Flux: 4.201211785343999e-12      Wavelength: 4.67484\n",
      "Flux: 5.758372298681199e-12      Wavelength: 4.68336\n",
      "Flux: 6.5640128652352016e-12      Wavelength: 4.69196\n",
      "Flux: 7.069663571182001e-12      Wavelength: 4.70068\n",
      "Flux: 7.402612069635997e-12      Wavelength: 4.7095\n",
      "Flux: 7.609070346730796e-12      Wavelength: 4.71842\n",
      "Flux: 7.70765833684e-12      Wavelength: 4.72746\n",
      "Flux: 7.704340846174601e-12      Wavelength: 4.7366\n",
      "Flux: 7.594171923294596e-12      Wavelength: 4.74586\n",
      "Flux: 7.369877297456198e-12      Wavelength: 4.75524\n",
      "Flux: 7.008335104844397e-12      Wavelength: 4.76472\n",
      "Flux: 6.490812236632799e-12      Wavelength: 4.77432\n",
      "Flux: 5.804356050592002e-12      Wavelength: 4.78402\n",
      "Flux: 4.970478095708402e-12      Wavelength: 4.79384\n",
      "Flux: 4.047564070271199e-12      Wavelength: 4.80378\n",
      "Flux: 3.1269960928173998e-12      Wavelength: 4.81382\n",
      "Flux: 2.2893655516712e-12      Wavelength: 4.82398\n",
      "Flux: 1.5940738693462e-12      Wavelength: 4.83426\n",
      "Flux: 1.0597571642043999e-12      Wavelength: 4.84466\n",
      "Flux: 6.741934549772e-13      Wavelength: 4.85516\n",
      "Flux: 4.1164410331579993e-13      Wavelength: 4.86578\n",
      "Flux: 2.424930175898e-13      Wavelength: 4.87654\n",
      "Flux: 1.3703220715940002e-13      Wavelength: 4.8874\n",
      "Flux: 7.340572603e-14      Wavelength: 4.89836\n",
      "Flux: 3.728755986240001e-14      Wavelength: 4.90946\n",
      "Flux: 1.5556265766e-14      Wavelength: 4.92064\n"
     ]
    }
   ],
   "source": [
    "i=0\n",
    "\n",
    "F=[]\n",
    "f=0\n",
    "while i<len(FD_array):\n",
    "\n",
    "    \n",
    "    if FD_array[i] >10e-17: \n",
    "        f=FD_array[i]*wav_array[i]+f\n",
    "    \n",
    "    else:\n",
    "        if f>0:\n",
    "            print('Flux:',f,'     Wavelength:',wav_array[i])\n",
    "            F.append(f)\n",
    "        f=0\n",
    "    \n",
    "    i=i+1\n",
    "    f=f\n",
    "    \n",
    "\n",
    "\n",
    "    \n"
   ]
  },
  {
   "cell_type": "code",
   "execution_count": 36,
   "metadata": {},
   "outputs": [
    {
     "name": "stdout",
     "output_type": "stream",
     "text": [
      "55001\n"
     ]
    }
   ],
   "source": [
    "print(len(FD_array))"
   ]
  },
  {
   "cell_type": "code",
   "execution_count": null,
   "metadata": {},
   "outputs": [],
   "source": []
  }
 ],
 "metadata": {
  "kernelspec": {
   "display_name": "Python 3 (ipykernel)",
   "language": "python",
   "name": "python3"
  },
  "language_info": {
   "codemirror_mode": {
    "name": "ipython",
    "version": 3
   },
   "file_extension": ".py",
   "mimetype": "text/x-python",
   "name": "python",
   "nbconvert_exporter": "python",
   "pygments_lexer": "ipython3",
   "version": "3.11.5"
  }
 },
 "nbformat": 4,
 "nbformat_minor": 2
}
